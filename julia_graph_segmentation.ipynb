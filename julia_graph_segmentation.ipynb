{
 "cells": [
  {
   "cell_type": "code",
   "execution_count": 10,
   "metadata": {},
   "outputs": [
    {
     "name": "stdout",
     "output_type": "stream",
     "text": [
      "\u001b[32m\u001b[1m Resolving\u001b[22m\u001b[39m package versions...\n",
      "\u001b[32m\u001b[1m  Updating\u001b[22m\u001b[39m `~/.julia/environments/v1.0/Project.toml`\n",
      "\u001b[90m [no changes]\u001b[39m\n",
      "\u001b[32m\u001b[1m  Updating\u001b[22m\u001b[39m `~/.julia/environments/v1.0/Manifest.toml`\n",
      "\u001b[90m [no changes]\u001b[39m\n",
      "\u001b[32m\u001b[1m Resolving\u001b[22m\u001b[39m package versions...\n",
      "\u001b[32m\u001b[1m  Updating\u001b[22m\u001b[39m `~/.julia/environments/v1.0/Project.toml`\n",
      "\u001b[90m [no changes]\u001b[39m\n",
      "\u001b[32m\u001b[1m  Updating\u001b[22m\u001b[39m `~/.julia/environments/v1.0/Manifest.toml`\n",
      "\u001b[90m [no changes]\u001b[39m\n",
      "\u001b[32m\u001b[1m Resolving\u001b[22m\u001b[39m package versions...\n",
      "\u001b[32m\u001b[1m  Updating\u001b[22m\u001b[39m `~/.julia/environments/v1.0/Project.toml`\n",
      "\u001b[90m [no changes]\u001b[39m\n",
      "\u001b[32m\u001b[1m  Updating\u001b[22m\u001b[39m `~/.julia/environments/v1.0/Manifest.toml`\n",
      "\u001b[90m [no changes]\u001b[39m\n",
      "\u001b[32m\u001b[1m Resolving\u001b[22m\u001b[39m package versions...\n",
      "\u001b[32m\u001b[1m Installed\u001b[22m\u001b[39m AutoHashEquals ─── v0.2.0\n",
      "\u001b[32m\u001b[1m Installed\u001b[22m\u001b[39m ParserCombinator ─ v2.0.0\n",
      "\u001b[32m\u001b[1m Installed\u001b[22m\u001b[39m Nullables ──────── v0.0.8\n",
      "\u001b[32m\u001b[1m  Updating\u001b[22m\u001b[39m `~/.julia/environments/v1.0/Project.toml`\n",
      " \u001b[90m [fae87a5f]\u001b[39m\u001b[92m + ParserCombinator v2.0.0\u001b[39m\n",
      "\u001b[32m\u001b[1m  Updating\u001b[22m\u001b[39m `~/.julia/environments/v1.0/Manifest.toml`\n",
      " \u001b[90m [15f4f7f2]\u001b[39m\u001b[92m + AutoHashEquals v0.2.0\u001b[39m\n",
      " \u001b[90m [4d1e1d77]\u001b[39m\u001b[92m + Nullables v0.0.8\u001b[39m\n",
      " \u001b[90m [fae87a5f]\u001b[39m\u001b[92m + ParserCombinator v2.0.0\u001b[39m\n"
     ]
    }
   ],
   "source": [
    "using Pkg\n",
    "Pkg.add(\"LightGraphs\")\n",
    "Pkg.add(\"MetaGraphs\")\n",
    "Pkg.add(\"GraphIO\")\n",
    "Pkg.add(\"ParserCombinator\")"
   ]
  },
  {
   "cell_type": "code",
   "execution_count": 17,
   "metadata": {},
   "outputs": [
    {
     "ename": "MethodError",
     "evalue": "MethodError: no method matching loadgraph(::String, ::Module)\nClosest candidates are:\n  loadgraph(::AbstractString) at /home/virtualgraham/.julia/packages/LightGraphs/WBY2S/src/persistence/common.jl:18\n  loadgraph(::AbstractString, !Matched::String, !Matched::MGFormat) at /home/virtualgraham/.julia/packages/MetaGraphs/rvMKG/src/persistence.jl:15\n  loadgraph(::AbstractString, !Matched::AbstractString) at /home/virtualgraham/.julia/packages/LightGraphs/WBY2S/src/persistence/common.jl:19\n  ...",
     "output_type": "error",
     "traceback": [
      "MethodError: no method matching loadgraph(::String, ::Module)\nClosest candidates are:\n  loadgraph(::AbstractString) at /home/virtualgraham/.julia/packages/LightGraphs/WBY2S/src/persistence/common.jl:18\n  loadgraph(::AbstractString, !Matched::String, !Matched::MGFormat) at /home/virtualgraham/.julia/packages/MetaGraphs/rvMKG/src/persistence.jl:15\n  loadgraph(::AbstractString, !Matched::AbstractString) at /home/virtualgraham/.julia/packages/LightGraphs/WBY2S/src/persistence/common.jl:19\n  ...",
      "",
      "Stacktrace:",
      " [1] top-level scope at In[17]:2"
     ]
    }
   ],
   "source": [
    "using LightGraphs, MetaGraphs, GraphIO, ParserCombinator\n",
    "graph = loadgraph(\"nn_graph_sample.gml\", GraphIO.GML)"
   ]
  },
  {
   "cell_type": "code",
   "execution_count": 12,
   "metadata": {},
   "outputs": [],
   "source": [
    "using LightGraphs, MetaGraphs, GraphIO, ParserCombinator"
   ]
  },
  {
   "cell_type": "code",
   "execution_count": null,
   "metadata": {},
   "outputs": [],
   "source": []
  }
 ],
 "metadata": {
  "kernelspec": {
   "display_name": "Julia 1.0.2",
   "language": "julia",
   "name": "julia-1.0"
  },
  "language_info": {
   "file_extension": ".jl",
   "mimetype": "application/julia",
   "name": "julia",
   "version": "1.0.2"
  }
 },
 "nbformat": 4,
 "nbformat_minor": 2
}
