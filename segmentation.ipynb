{
 "cells": [
  {
   "cell_type": "markdown",
   "metadata": {},
   "source": [
    "# Generate and Parse Functions"
   ]
  },
  {
   "cell_type": "code",
   "execution_count": null,
   "metadata": {},
   "outputs": [],
   "source": [
    "from cnn_sliding_window_feats import extract_features\n",
    "import networkx as nx\n",
    "import nmslib\n",
    "import numpy as np\n",
    "import csv\n",
    "from os import path\n",
    "\n",
    "\n",
    "def prepare_image_paths_labels():\n",
    "    labels_file = \"household_images/labels.csv\"\n",
    "    data = genfromtxt(labels_file, delimiter=',')\n",
    "    return data\n",
    "\n",
    "\n",
    "def prepare_image_paths_labels():\n",
    "    directory_path = \"household_images/images\"\n",
    "    labels_file = \"household_images/labels.csv\"\n",
    "\n",
    "    with open(labels_file, \"rt\", encoding=\"utf8\") as f_input:\n",
    "        csv_input = csv.reader(f_input)\n",
    "        header = next(csv_input)\n",
    "        data = [row for row in csv_input]\n",
    "    \n",
    "    image_paths = [path.join(directory_path, row[0]) for row in data]\n",
    "    image_labels = [int(row[1]) for row in data]\n",
    "    \n",
    "    return image_paths, image_labels\n",
    "\n",
    "\n",
    "image_paths, image_labels = prepare_image_paths_labels()\n",
    "features = extract_features(image_paths[:3])\n",
    "\n",
    "\n",
    "descriptors = []\n",
    "\n",
    "for feature in features:\n",
    "    descriptors.append(feature.cnn_features)\n",
    "    \n",
    "desc_index = nmslib.init(method='hnsw', space='cosinesimil')\n",
    "desc_index.addDataPointBatch(np.array(descriptors), np.arange(len(descriptors)))\n",
    "desc_index.createIndex({'post': 2}, print_progress=True)\n",
    "\n",
    "# we use a dictionary fist to prevent edge duplicates\n",
    "\n",
    "edge_dict = {}\n",
    "\n",
    "for i in range(len(descriptors)):\n",
    "    idxs, distances = desc_index.knnQuery(descriptors[i], k=17)\n",
    "    for j in range(1,len(idxs)):\n",
    "        if idxs[j] < i :\n",
    "            edge = (idxs[j], i)\n",
    "        else:\n",
    "            edge = (i, idxs[j])\n",
    "        edge_dict[edge] = distances[j]\n",
    "\n",
    "        \n",
    "edge_list = []\n",
    "\n",
    "index = 0\n",
    "for (i,j), weight in edge_dict.items():\n",
    "    edge_list.append([i,j,weight])\n",
    "    index += 1\n",
    "\n",
    "with open(\"edges_sample.csv\", \"w\") as f:\n",
    "    writer = csv.writer(f)\n",
    "    writer.writerows(edge_list)\n",
    "\n",
    "    \n",
    "node_list = []\n",
    "\n",
    "for i in range(len(descriptors)):\n",
    "    node_list.append([i, features[i].image, ' '.join(map(str, features[i].coordinates)), ' '.join(map(str, features[i].color))])\n",
    "    \n",
    "with open(\"nodes_sample.csv\", \"w\") as f:\n",
    "    writer = csv.writer(f)\n",
    "    writer.writerows(node_list)"
   ]
  },
  {
   "cell_type": "code",
   "execution_count": 59,
   "metadata": {},
   "outputs": [
    {
     "name": "stdout",
     "output_type": "stream",
     "text": [
      "[225863, 290179, 0.38618922]\n",
      "[0, 'household_images/images/IMG_0317.jpg', (0, 0), (200, 196, 208)]\n",
      "len(node_list) 443940\n",
      "edges.shape (5437791, 3)\n",
      "num_cc 6265\n"
     ]
    }
   ],
   "source": [
    "import csv\n",
    "import numpy as np\n",
    "from pegbis.segment_graph import *\n",
    "from matplotlib import pyplot as plt\n",
    "\n",
    "with open('edges.csv', 'r') as f:\n",
    "    edge_list = [[int(row[0]), int(row[1]), float(row[2])] for row in csv.reader(f)]\n",
    "    \n",
    "with open('nodes.csv', 'r') as f:\n",
    "    node_list = [[int(row[0]), row[1], tuple(map(int, row[2].split())), tuple(map(int, row[3].split()))] for row in csv.reader(f)]\n",
    "    \n",
    "print(edge_list[0])\n",
    "print(node_list[0])\n",
    "\n",
    "edges = np.array(edge_list, dtype=object)\n",
    "\n",
    "print(\"len(node_list)\", len(node_list))\n",
    "print(\"edges.shape\", edges.shape)\n",
    "\n",
    "u = segment_graph(len(node_list), len(edge_list), edges, 0.3)\n",
    "\n",
    "num_cc = u.num_sets()\n",
    "\n",
    "print(\"num_cc\", num_cc)\n",
    "\n",
    "segments = []\n",
    "for i in range(len(node_list)):\n",
    "    segments.append([u.find(i)])\n",
    "    \n",
    "with open(\"segments.csv\", \"w\") as f:\n",
    "    writer = csv.writer(f)\n",
    "    writer.writerows(segments)"
   ]
  },
  {
   "cell_type": "code",
   "execution_count": 60,
   "metadata": {},
   "outputs": [
    {
     "data": {
      "image/png": "[encoded data removed]",
      "text/plain": [
       "<Figure size 432x288 with 1 Axes>"
      ]
     },
     "metadata": {},
     "output_type": "display_data"
    }
   ],
   "source": [
    "import csv\n",
    "import numpy as np\n",
    "from matplotlib import pyplot as plt\n",
    "\n",
    "with open('segments.csv', 'r') as f:\n",
    "    segments = [int(row[0]) for row in csv.reader(f)]\n",
    "\n",
    "thumb = np.zeros(shape=(21,28,3))\n",
    "groups = np.zeros(shape=(21,28,3))\n",
    "\n",
    "for i in range(len(segments)):\n",
    "    node1 = node_list[i]\n",
    "    if node1[1] != \"household_images/images/IMG_0317.jpg\":\n",
    "        continue\n",
    "    node2 = node_list[segments[i]]\n",
    "    # print(node[2])\n",
    "    # print(node[3])\n",
    "    thumb[node1[2]] = node1[3]\n",
    "    groups[node1[2]] = node2[3]\n",
    "\n",
    "plt.imshow(groups/255.0)\n",
    "# plt.imshow(thumb/255.0)\n",
    "\n",
    "plt.show()"
   ]
  },
  {
   "cell_type": "code",
   "execution_count": null,
   "metadata": {},
   "outputs": [],
   "source": []
  }
 ],
 "metadata": {
  "kernelspec": {
   "display_name": "Python 3",
   "language": "python",
   "name": "python3"
  },
  "language_info": {
   "codemirror_mode": {
    "name": "ipython",
    "version": 3
   },
   "file_extension": ".py",
   "mimetype": "text/x-python",
   "name": "python",
   "nbconvert_exporter": "python",
   "pygments_lexer": "ipython3",
   "version": "3.5.3"
  }
 },
 "nbformat": 4,
 "nbformat_minor": 2
}
