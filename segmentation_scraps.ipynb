{
 "cells": [
  {
   "cell_type": "code",
   "execution_count": null,
   "metadata": {},
   "outputs": [],
   "source": [
    "from cnn_sliding_window_feats import extract_features\n",
    "import networkx as nx\n",
    "import nmslib\n",
    "import numpy as np\n",
    "import csv\n",
    "from os import path\n",
    "\n",
    "def prepare_image_paths_labels():\n",
    "    labels_file = \"household_images/labels.csv\"\n",
    "    data = genfromtxt(labels_file, delimiter=',')\n",
    "    return data\n",
    "\n",
    "\n",
    "def prepare_image_paths_labels():\n",
    "    directory_path = \"household_images/images\"\n",
    "    labels_file = \"household_images/labels.csv\"\n",
    "\n",
    "    with open(labels_file, \"rt\", encoding=\"utf8\") as f_input:\n",
    "        csv_input = csv.reader(f_input)\n",
    "        header = next(csv_input)\n",
    "        data = [row for row in csv_input]\n",
    "    \n",
    "    image_paths = [path.join(directory_path, row[0]) for row in data]\n",
    "    image_labels = [int(row[1]) for row in data]\n",
    "    \n",
    "    return image_paths, image_labels\n",
    "\n",
    "\n",
    "image_paths, image_labels = prepare_image_paths_labels()\n",
    "features = extract_features(image_paths[:1])\n",
    "\n",
    "\n",
    "descriptors = []\n",
    "\n",
    "for feature in features:\n",
    "    descriptors.append(feature.cnn_features)\n",
    "    \n",
    "desc_index = nmslib.init(method='hnsw', space='cosinesimil')\n",
    "desc_index.addDataPointBatch(np.array(descriptors), np.arange(len(descriptors)))\n",
    "desc_index.createIndex({'post': 2}, print_progress=True)\n",
    "\n",
    "\n",
    "nn_graph = nx.Graph()\n",
    "\n",
    "for i in range(len(descriptors)):\n",
    "    idxs, distances = desc_index.knnQuery(descriptors[i], k=17)\n",
    "    for j in range(1,len(idxs)):\n",
    "        nn_graph.add_edge(i, idxs[j], weight=distances[j])\n",
    "        \n",
    "for i in range(len(descriptors)):\n",
    "    nn_graph.node[i]['image'] = features[i].image\n",
    "    nn_graph.node[i]['coordinates'] = ' '.join(map(str, features[i].coordinates))\n",
    "    nn_graph.node[i]['color'] = ' '.join(map(str, features[i].color)) # str(features[i].color[0], \" \", features[i].color[1], \" \", features[i].color[2])\n",
    "    \n",
    "nx.write_gml(nn_graph, \"nn_graph_sample.gml\", lambda x: str(x) )"
   ]
  },
  {
   "cell_type": "code",
   "execution_count": null,
   "metadata": {},
   "outputs": [],
   "source": [
    "import networkx as nx\n",
    "import numpy as np\n",
    "from matplotlib import pyplot as plt\n",
    "\n",
    "block_grid=(21,28)\n",
    "\n",
    "nn_graph = nx.read_gml(\"nn_graph.gml\")\n",
    "\n",
    "def visualize(segment_graph):\n",
    "    group = 1\n",
    "    thumbnail_img = np.zeros((block_grid[0], block_grid[1], 3))\n",
    "    group_img = np.zeros(block_grid)\n",
    "\n",
    "    for subgraph in nx.connected_component_subgraphs(segment_graph):\n",
    "        for node in subgraph.nodes():\n",
    "            if nn_graph.node[node]['image'] == nn_graph.node['0']['image']:\n",
    "                coord = tuple(map(int, nn_graph.node[node]['coordinates'].split()))\n",
    "                color = tuple(map(int, nn_graph.node[node]['color'].split()))\n",
    "                group_img[coord] = group\n",
    "                thumbnail_img[coord] = np.array(color)/255.0\n",
    "        group += 1\n",
    "\n",
    "    #print(thumbnail_img)\n",
    "    plt.imshow(thumbnail_img[:,:,::-1])\n",
    "    plt.matshow(group_img)\n",
    "    plt.show()\n",
    "\n",
    "    \n",
    "def max_diff(nodes, segment_graph):\n",
    "    # Degenerate case\n",
    "    if len(nodes) == 1:\n",
    "        return 0.0\n",
    "\n",
    "    \n",
    "    edge = max(segment_graph.edges(nodes,data=True), key=(lambda e: float(e[2]['weight'])))\n",
    "    return float(edge[2]['weight'])\n",
    "\n",
    "\n",
    "k = 0.285\n",
    "\n",
    "\n",
    "def min_internal_diff(nodes1, nodes2, graph):\n",
    "    global k\n",
    "    tauC1 = k/len(nodes1)\n",
    "    tauC2 = k/len(nodes2)\n",
    "\n",
    "    return min(max_diff(nodes1, graph) + tauC1, max_diff(nodes2, graph) + tauC2)\n",
    "\n",
    "\n",
    "def segment(segment_graph, sorted_edges):\n",
    "    for u,v,d in sorted_edges:\n",
    "        connected1 = nx.node_connected_component(segment_graph, u)\n",
    "        connected2 = nx.node_connected_component(segment_graph, v)\n",
    "        w = min_internal_diff(connected1, connected2, segment_graph)\n",
    "        if float(d['weight']) <= w:\n",
    "            segment_graph.add_edge(u,v,weight=float(d['weight']))\n",
    "    return segment_graph\n",
    "\n",
    "\n",
    "segment_graph = nx.Graph()\n",
    "segment_graph.add_nodes_from(nn_graph.nodes())\n",
    "sorted_edges = sorted(nn_graph.edges(data=True), key=(lambda e: float(e[2]['weight'])))\n",
    "\n",
    "segment_graph = segment(segment_graph, sorted_edges)\n",
    "visualize(segment_graph)"
   ]
  },
  {
   "cell_type": "code",
   "execution_count": null,
   "metadata": {},
   "outputs": [],
   "source": [
    "visualize(segment_graph)"
   ]
  },
  {
   "cell_type": "code",
   "execution_count": null,
   "metadata": {},
   "outputs": [],
   "source": [
    "from cnn_sliding_window_feats import open_and_prepare_image\n",
    "from matplotlib import pyplot as plt\n",
    "\n",
    "window_size_blocks = 7 \n",
    "block_size=32\n",
    "block_grid=(21,28)\n",
    "\n",
    "window_size = window_size_blocks * block_size\n",
    "steps = (block_grid[0]-window_size_blocks+1, block_grid[1]-window_size_blocks+1)\n",
    "stride = block_size\n",
    "    \n",
    "img = open_and_prepare_image(image_path, steps=steps)\n",
    "img2 = img[:,:,::-1]\n",
    "print(img.shape)\n",
    "print(img2.shape)\n",
    "plt.imshow(img2)\n",
    "\n",
    "# (height, width)"
   ]
  },
  {
   "cell_type": "code",
   "execution_count": null,
   "metadata": {},
   "outputs": [],
   "source": [
    "from cnn_sliding_window_feats import extract_windows\n",
    "from matplotlib import pyplot as plt\n",
    "\n",
    "image_path = \"household_images/images/IMG_0412.jpg\"\n",
    "\n",
    "window_size_blocks = 7 \n",
    "block_size=32\n",
    "block_grid=(21,28)\n",
    "\n",
    "window_size = window_size_blocks * block_size\n",
    "steps = (block_grid[0]-window_size_blocks+1, block_grid[1]-window_size_blocks+1)\n",
    "stride = block_size\n",
    "\n",
    "windows, coords, thumbnail = extract_windows(image_path, steps=steps)\n",
    "img2 = thumbnail[:,:,::-1]/255\n",
    "plt.imshow(img2)"
   ]
  },
  {
   "cell_type": "code",
   "execution_count": null,
   "metadata": {},
   "outputs": [],
   "source": [
    "np.array((1,2,3))"
   ]
  },
  {
   "cell_type": "code",
   "execution_count": null,
   "metadata": {},
   "outputs": [],
   "source": [
    "\n",
    "tuple(map(int, np.array((1.0,2.0,3.0))))"
   ]
  },
  {
   "cell_type": "code",
   "execution_count": null,
   "metadata": {},
   "outputs": [],
   "source": [
    "import numpy as np\n",
    "edges = np.zeros(shape=(3, 3), dtype=object)"
   ]
  },
  {
   "cell_type": "code",
   "execution_count": null,
   "metadata": {},
   "outputs": [],
   "source": []
  },
  {
   "cell_type": "code",
   "execution_count": null,
   "metadata": {},
   "outputs": [],
   "source": [
    "edges[0,:] = [1,2,3]"
   ]
  },
  {
   "cell_type": "code",
   "execution_count": null,
   "metadata": {},
   "outputs": [],
   "source": [
    "edges"
   ]
  },
  {
   "cell_type": "code",
   "execution_count": null,
   "metadata": {},
   "outputs": [],
   "source": []
  }
 ],
 "metadata": {
  "kernelspec": {
   "display_name": "Python 3",
   "language": "python",
   "name": "python3"
  },
  "language_info": {
   "codemirror_mode": {
    "name": "ipython",
    "version": 3
   },
   "file_extension": ".py",
   "mimetype": "text/x-python",
   "name": "python",
   "nbconvert_exporter": "python",
   "pygments_lexer": "ipython3",
   "version": "3.5.3"
  }
 },
 "nbformat": 4,
 "nbformat_minor": 2
}
